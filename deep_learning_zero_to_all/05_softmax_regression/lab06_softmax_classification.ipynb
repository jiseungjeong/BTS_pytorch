{
 "cells": [
  {
   "cell_type": "markdown",
   "id": "c1a82aef",
   "metadata": {},
   "source": [
    "# 01. 소프트맥스 회귀의 비용 함수 구현하기"
   ]
  },
  {
   "cell_type": "code",
   "execution_count": 1,
   "id": "d94b0755",
   "metadata": {},
   "outputs": [],
   "source": [
    "import torch\n",
    "import torch.nn.functional as F"
   ]
  },
  {
   "cell_type": "code",
   "execution_count": 2,
   "id": "84189189",
   "metadata": {},
   "outputs": [
    {
     "data": {
      "text/plain": [
       "<torch._C.Generator at 0x7f5fc010d250>"
      ]
     },
     "execution_count": 2,
     "metadata": {},
     "output_type": "execute_result"
    }
   ],
   "source": [
    "torch.manual_seed(1)"
   ]
  },
  {
   "cell_type": "markdown",
   "id": "14b8937d",
   "metadata": {},
   "source": [
    "## 1. 로우레벨"
   ]
  },
  {
   "cell_type": "code",
   "execution_count": 3,
   "id": "3520e278",
   "metadata": {},
   "outputs": [
    {
     "name": "stdout",
     "output_type": "stream",
     "text": [
      "tensor([0.0900, 0.2447, 0.6652])\n"
     ]
    }
   ],
   "source": [
    "z=torch.FloatTensor([1,2,3])\n",
    "\n",
    "hypothesis=F.softmax(z,dim=0) # 1번째 차원에 대하여 소프트맥스 함수 적용\n",
    "print(hypothesis)"
   ]
  },
  {
   "cell_type": "code",
   "execution_count": 4,
   "id": "76f9d9ae",
   "metadata": {},
   "outputs": [
    {
     "data": {
      "text/plain": [
       "tensor(1.)"
      ]
     },
     "execution_count": 4,
     "metadata": {},
     "output_type": "execute_result"
    }
   ],
   "source": [
    "hypothesis.sum()"
   ]
  },
  {
   "cell_type": "code",
   "execution_count": 5,
   "id": "913d4063",
   "metadata": {},
   "outputs": [],
   "source": [
    "z=torch.rand(3,5,requires_grad=True)"
   ]
  },
  {
   "cell_type": "code",
   "execution_count": 8,
   "id": "d098b723",
   "metadata": {},
   "outputs": [
    {
     "name": "stdout",
     "output_type": "stream",
     "text": [
      "tensor([[0.2645, 0.1639, 0.1855, 0.2585, 0.1277],\n",
      "        [0.2430, 0.1624, 0.2322, 0.1930, 0.1694],\n",
      "        [0.2226, 0.1986, 0.2326, 0.1594, 0.1868]], grad_fn=<SoftmaxBackward0>)\n"
     ]
    }
   ],
   "source": [
    "hypothesis=F.softmax(z,dim=1) # 2번째 차원에 대하여 소프트맥스 함수 적용 == 가로줄 총합이 1\n",
    "print(hypothesis)"
   ]
  },
  {
   "cell_type": "code",
   "execution_count": 9,
   "id": "548f2fd0",
   "metadata": {},
   "outputs": [
    {
     "name": "stdout",
     "output_type": "stream",
     "text": [
      "tensor([0, 2, 1])\n"
     ]
    }
   ],
   "source": [
    "y=torch.randint(5,(3,)).long()\n",
    "print(y)"
   ]
  },
  {
   "cell_type": "code",
   "execution_count": 17,
   "id": "df7b6581",
   "metadata": {},
   "outputs": [
    {
     "data": {
      "text/plain": [
       "tensor([[1., 0., 0., 0., 0.],\n",
       "        [0., 0., 1., 0., 0.],\n",
       "        [0., 1., 0., 0., 0.]])"
      ]
     },
     "execution_count": 17,
     "metadata": {},
     "output_type": "execute_result"
    }
   ],
   "source": [
    "y_one_hot=torch.zeros_like(hypothesis)\n",
    "y_one_hot.scatter_(1,y.unsqueeze(1), 1) # dim=1에 대해서 수행, y의 shape을 3x1로 바꾸고 1을 넣는다."
   ]
  },
  {
   "cell_type": "code",
   "execution_count": 18,
   "id": "2dd9299a",
   "metadata": {},
   "outputs": [
    {
     "name": "stdout",
     "output_type": "stream",
     "text": [
      "tensor([[0],\n",
      "        [2],\n",
      "        [1]])\n"
     ]
    }
   ],
   "source": [
    "print(y.unsqueeze(1))"
   ]
  },
  {
   "cell_type": "code",
   "execution_count": 16,
   "id": "9fa207b6",
   "metadata": {},
   "outputs": [
    {
     "name": "stdout",
     "output_type": "stream",
     "text": [
      "tensor([[1., 0., 0., 0., 0.],\n",
      "        [0., 0., 1., 0., 0.],\n",
      "        [0., 1., 0., 0., 0.]])\n"
     ]
    }
   ],
   "source": [
    "print(y_one_hot)"
   ]
  },
  {
   "cell_type": "code",
   "execution_count": 19,
   "id": "0a015185",
   "metadata": {},
   "outputs": [
    {
     "name": "stdout",
     "output_type": "stream",
     "text": [
      "tensor(1.4689, grad_fn=<MeanBackward0>)\n"
     ]
    }
   ],
   "source": [
    "cost=(y_one_hot*-torch.log(hypothesis)).sum(dim=1).mean()\n",
    "print(cost)"
   ]
  },
  {
   "cell_type": "markdown",
   "id": "f3052d02",
   "metadata": {},
   "source": [
    "# 2. 하이-레벨\n",
    "## 1. F.softmax() + torch.log() = F.log_softmax()"
   ]
  },
  {
   "cell_type": "code",
   "execution_count": 20,
   "id": "36365149",
   "metadata": {},
   "outputs": [
    {
     "data": {
      "text/plain": [
       "tensor([[-1.3301, -1.8084, -1.6846, -1.3530, -2.0584],\n",
       "        [-1.4147, -1.8174, -1.4602, -1.6450, -1.7758],\n",
       "        [-1.5025, -1.6165, -1.4586, -1.8360, -1.6776]], grad_fn=<LogBackward0>)"
      ]
     },
     "execution_count": 20,
     "metadata": {},
     "output_type": "execute_result"
    }
   ],
   "source": [
    "# Low level\n",
    "torch.log(F.softmax(z, dim=1))"
   ]
  },
  {
   "cell_type": "code",
   "execution_count": 21,
   "id": "15cdf7af",
   "metadata": {},
   "outputs": [
    {
     "data": {
      "text/plain": [
       "tensor([[-1.3301, -1.8084, -1.6846, -1.3530, -2.0584],\n",
       "        [-1.4147, -1.8174, -1.4602, -1.6450, -1.7758],\n",
       "        [-1.5025, -1.6165, -1.4586, -1.8360, -1.6776]],\n",
       "       grad_fn=<LogSoftmaxBackward0>)"
      ]
     },
     "execution_count": 21,
     "metadata": {},
     "output_type": "execute_result"
    }
   ],
   "source": [
    "# High level\n",
    "F.log_softmax(z,dim=1)"
   ]
  },
  {
   "cell_type": "markdown",
   "id": "c10eb600",
   "metadata": {},
   "source": [
    "## 2. F.log_softmax() + F.nll_loss() = F.cross_entropy()"
   ]
  },
  {
   "cell_type": "code",
   "execution_count": 24,
   "id": "f442a3c0",
   "metadata": {},
   "outputs": [
    {
     "data": {
      "text/plain": [
       "tensor(1.4689, grad_fn=<MeanBackward0>)"
      ]
     },
     "execution_count": 24,
     "metadata": {},
     "output_type": "execute_result"
    }
   ],
   "source": [
    "# Low level\n",
    "(y_one_hot * -torch.log(F.softmax(z,dim=1))).sum(dim=1).mean()"
   ]
  },
  {
   "cell_type": "code",
   "execution_count": 25,
   "id": "ca638f66",
   "metadata": {},
   "outputs": [
    {
     "data": {
      "text/plain": [
       "tensor(1.4689, grad_fn=<MeanBackward0>)"
      ]
     },
     "execution_count": 25,
     "metadata": {},
     "output_type": "execute_result"
    }
   ],
   "source": [
    "(y_one_hot*-F.log_softmax(z,dim=1)).sum(dim=1).mean()"
   ]
  },
  {
   "cell_type": "code",
   "execution_count": 27,
   "id": "8712ab1d",
   "metadata": {},
   "outputs": [
    {
     "data": {
      "text/plain": [
       "tensor(1.4689, grad_fn=<NllLossBackward0>)"
      ]
     },
     "execution_count": 27,
     "metadata": {},
     "output_type": "execute_result"
    }
   ],
   "source": [
    "# High level\n",
    "F.nll_loss(F.log_softmax(z,dim=1),y)\n",
    "# 원핫벡터 대신 실제값을 넣음"
   ]
  },
  {
   "cell_type": "code",
   "execution_count": 29,
   "id": "029ab450",
   "metadata": {},
   "outputs": [
    {
     "data": {
      "text/plain": [
       "tensor(1.4689, grad_fn=<NllLossBackward0>)"
      ]
     },
     "execution_count": 29,
     "metadata": {},
     "output_type": "execute_result"
    }
   ],
   "source": [
    "F.cross_entropy(z,y) # 내부에 소프트맥스 함수까지 포함하고 있으므로, 차원만 맞춰서 데이터 원형으로 넣으면 됨."
   ]
  },
  {
   "cell_type": "markdown",
   "id": "f5d17e72",
   "metadata": {},
   "source": [
    "# 02. 소프트맥스 회귀 구현하기"
   ]
  },
  {
   "cell_type": "code",
   "execution_count": 30,
   "id": "4ed7cb45",
   "metadata": {},
   "outputs": [],
   "source": [
    "import torch\n",
    "import torch.nn as nn\n",
    "import torch.nn.functional as F\n",
    "import torch.optim as optim"
   ]
  },
  {
   "cell_type": "code",
   "execution_count": 31,
   "id": "8c224b1b",
   "metadata": {},
   "outputs": [
    {
     "data": {
      "text/plain": [
       "<torch._C.Generator at 0x7f5fc010d250>"
      ]
     },
     "execution_count": 31,
     "metadata": {},
     "output_type": "execute_result"
    }
   ],
   "source": [
    "torch.manual_seed(1)"
   ]
  },
  {
   "cell_type": "code",
   "execution_count": 32,
   "id": "b2b91dc1",
   "metadata": {},
   "outputs": [],
   "source": [
    "x_train=[[1,2,1,1],\n",
    "        [2,1,3,2],\n",
    "        [3,1,3,4],\n",
    "        [4,1,5,5],\n",
    "        [1,7,5,5],\n",
    "        [1,2,5,6],\n",
    "        [1,6,6,6],\n",
    "        [1,7,7,7]]\n",
    "y_train=[2,2,2,1,1,1,0,0]\n",
    "x_train=torch.FloatTensor(x_train)\n",
    "y_train=torch.LongTensor(y_train)"
   ]
  },
  {
   "cell_type": "markdown",
   "id": "f178197c",
   "metadata": {},
   "source": [
    "## 1. 로우-레벨"
   ]
  },
  {
   "cell_type": "code",
   "execution_count": 33,
   "id": "6536bc8e",
   "metadata": {},
   "outputs": [
    {
     "name": "stdout",
     "output_type": "stream",
     "text": [
      "torch.Size([8, 4])\n",
      "torch.Size([8])\n"
     ]
    }
   ],
   "source": [
    "print(x_train.shape)\n",
    "print(y_train.shape)"
   ]
  },
  {
   "cell_type": "code",
   "execution_count": 34,
   "id": "a8e869b8",
   "metadata": {},
   "outputs": [
    {
     "name": "stdout",
     "output_type": "stream",
     "text": [
      "torch.Size([8, 3])\n"
     ]
    }
   ],
   "source": [
    "y_one_hot=torch.zeros(8,3)\n",
    "y_one_hot.scatter_(1,y_train.unsqueeze(1),1)\n",
    "print(y_one_hot.shape)"
   ]
  },
  {
   "cell_type": "code",
   "execution_count": 35,
   "id": "7b7d353d",
   "metadata": {},
   "outputs": [],
   "source": [
    "W=torch.zeros((4,3),requires_grad=True)\n",
    "b=torch.zeros(1,requires_grad=True)\n",
    "\n",
    "optimizer=optim.SGD([W,b],lr=0.1)"
   ]
  },
  {
   "cell_type": "code",
   "execution_count": 38,
   "id": "07b6e829",
   "metadata": {},
   "outputs": [
    {
     "name": "stdout",
     "output_type": "stream",
     "text": [
      "Epoch    0/1000 Cost: 0.985576\n",
      "Epoch  100/1000 Cost: 0.759040\n",
      "Epoch  200/1000 Cost: 0.688919\n",
      "Epoch  300/1000 Cost: 0.642395\n",
      "Epoch  400/1000 Cost: 0.603376\n",
      "Epoch  500/1000 Cost: 0.567557\n",
      "Epoch  600/1000 Cost: 0.533244\n",
      "Epoch  700/1000 Cost: 0.499622\n",
      "Epoch  800/1000 Cost: 0.466241\n",
      "Epoch  900/1000 Cost: 0.432837\n",
      "Epoch 1000/1000 Cost: 0.399290\n"
     ]
    }
   ],
   "source": [
    "nb_epochs=1000\n",
    "for epoch in range(nb_epochs+1):\n",
    "    hypothesis=F.softmax(x_train.matmul(W)+b, dim=1)\n",
    "    \n",
    "    cost=(y_one_hot*-torch.log(hypothesis)).sum(dim=1).mean()\n",
    "    \n",
    "    optimizer.zero_grad()\n",
    "    cost.backward()\n",
    "    optimizer.step()\n",
    "    \n",
    "    if epoch % 100==0:\n",
    "        print('Epoch {:4d}/{} Cost: {:.6f}'.format(epoch, nb_epochs, cost.item()))"
   ]
  },
  {
   "cell_type": "markdown",
   "id": "3f4fa90b",
   "metadata": {},
   "source": [
    "## 2. 하이-레벨"
   ]
  },
  {
   "cell_type": "code",
   "execution_count": 40,
   "id": "7934c017",
   "metadata": {},
   "outputs": [
    {
     "name": "stdout",
     "output_type": "stream",
     "text": [
      "Epoch    0/1000 Cost:1.098612\n",
      "Epoch  100/1000 Cost:0.761050\n",
      "Epoch  200/1000 Cost:0.689991\n",
      "Epoch  300/1000 Cost:0.643229\n",
      "Epoch  400/1000 Cost:0.604117\n",
      "Epoch  500/1000 Cost:0.568256\n",
      "Epoch  600/1000 Cost:0.533922\n",
      "Epoch  700/1000 Cost:0.500291\n",
      "Epoch  800/1000 Cost:0.466908\n",
      "Epoch  900/1000 Cost:0.433507\n",
      "Epoch 1000/1000 Cost:0.399962\n"
     ]
    }
   ],
   "source": [
    "W=torch.zeros((4,3),requires_grad=True)\n",
    "b=torch.zeros(1,requires_grad=True)\n",
    "\n",
    "optimizer=optim.SGD([W,b], lr=0.1)\n",
    "\n",
    "nb_epochs=1000\n",
    "for epoch in range(nb_epochs +1):\n",
    "    z=x_train.matmul(W)+b\n",
    "    cost=F.cross_entropy(z,y_train)\n",
    "    \n",
    "    optimizer.zero_grad()\n",
    "    cost.backward()\n",
    "    optimizer.step()\n",
    "    \n",
    "    if epoch%100==0:\n",
    "        print('Epoch {:4d}/{} Cost:{:.6f}'.format(epoch, nb_epochs, cost.item()))"
   ]
  },
  {
   "cell_type": "markdown",
   "id": "fd788e3d",
   "metadata": {},
   "source": [
    "## 3.  nn.Module로 구현하기"
   ]
  },
  {
   "cell_type": "code",
   "execution_count": 41,
   "id": "f121413a",
   "metadata": {},
   "outputs": [],
   "source": [
    "model=nn.Linear(4,3)"
   ]
  },
  {
   "cell_type": "code",
   "execution_count": 42,
   "id": "8fcc9811",
   "metadata": {},
   "outputs": [
    {
     "name": "stdout",
     "output_type": "stream",
     "text": [
      "Epoch    0/1000 Cost: 1.616785\n",
      "Epoch  100/1000 Cost: 0.658891\n",
      "Epoch  200/1000 Cost: 0.573443\n",
      "Epoch  300/1000 Cost: 0.518151\n",
      "Epoch  400/1000 Cost: 0.473265\n",
      "Epoch  500/1000 Cost: 0.433516\n",
      "Epoch  600/1000 Cost: 0.396563\n",
      "Epoch  700/1000 Cost: 0.360914\n",
      "Epoch  800/1000 Cost: 0.325392\n",
      "Epoch  900/1000 Cost: 0.289178\n",
      "Epoch 1000/1000 Cost: 0.254148\n"
     ]
    }
   ],
   "source": [
    "optimizer=optim.SGD(model.parameters(), lr=0.1)\n",
    "\n",
    "nb_epochs=1000\n",
    "for epoch in range(nb_epochs +1):\n",
    "    prediction=model(x_train)\n",
    "    \n",
    "    cost=F.cross_entropy(prediction, y_train)\n",
    "    \n",
    "    optimizer.zero_grad()\n",
    "    cost.backward()\n",
    "    optimizer.step()\n",
    "    \n",
    "    if epoch%100==0:\n",
    "        print('Epoch {:4d}/{} Cost: {:.6f}'.format(epoch, nb_epochs, cost.item()))"
   ]
  },
  {
   "cell_type": "markdown",
   "id": "dc67693c",
   "metadata": {},
   "source": [
    "## 4. 클래스로 구현하기"
   ]
  },
  {
   "cell_type": "code",
   "execution_count": 48,
   "id": "921a4965",
   "metadata": {},
   "outputs": [],
   "source": [
    "class SoftmaxClassifierModel(nn.Module):\n",
    "    def __init__(self):\n",
    "        super().__init__()\n",
    "        self.linear=nn.Linear(4,3)\n",
    "        \n",
    "    def forward(self, x):\n",
    "        return self.linear(x)"
   ]
  },
  {
   "cell_type": "code",
   "execution_count": 49,
   "id": "b07d2f0d",
   "metadata": {},
   "outputs": [],
   "source": [
    "model=SoftmaxClassifierModel()"
   ]
  },
  {
   "cell_type": "code",
   "execution_count": 50,
   "id": "7b5b3d8f",
   "metadata": {},
   "outputs": [
    {
     "name": "stdout",
     "output_type": "stream",
     "text": [
      "Epoch    0/1000 Cost: 1.366217\n",
      "Epoch  100/1000 Cost: 0.722726\n",
      "Epoch  200/1000 Cost: 0.637564\n",
      "Epoch  300/1000 Cost: 0.578576\n",
      "Epoch  400/1000 Cost: 0.527363\n",
      "Epoch  500/1000 Cost: 0.479315\n",
      "Epoch  600/1000 Cost: 0.432700\n",
      "Epoch  700/1000 Cost: 0.386693\n",
      "Epoch  800/1000 Cost: 0.340930\n",
      "Epoch  900/1000 Cost: 0.295757\n",
      "Epoch 1000/1000 Cost: 0.255350\n"
     ]
    }
   ],
   "source": [
    "optimizer=optim.SGD(model.parameters(), lr=0.1)\n",
    "\n",
    "nb_epochs=1000\n",
    "for epoch in range(nb_epochs+1):\n",
    "    prediction=model(x_train)\n",
    "    \n",
    "    cost=F.cross_entropy(prediction, y_train)\n",
    "    \n",
    "    optimizer.zero_grad()\n",
    "    cost.backward()\n",
    "    optimizer.step()\n",
    "    \n",
    "    if epoch%100==0:\n",
    "        print('Epoch {:4d}/{} Cost: {:.6f}'.format(epoch, nb_epochs, cost.item()))"
   ]
  },
  {
   "cell_type": "code",
   "execution_count": null,
   "id": "4872f042",
   "metadata": {},
   "outputs": [],
   "source": []
  }
 ],
 "metadata": {
  "kernelspec": {
   "display_name": "Python 3 (ipykernel)",
   "language": "python",
   "name": "python3"
  },
  "language_info": {
   "codemirror_mode": {
    "name": "ipython",
    "version": 3
   },
   "file_extension": ".py",
   "mimetype": "text/x-python",
   "name": "python",
   "nbconvert_exporter": "python",
   "pygments_lexer": "ipython3",
   "version": "3.8.10"
  }
 },
 "nbformat": 4,
 "nbformat_minor": 5
}
