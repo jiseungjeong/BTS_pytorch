{
 "cells": [
  {
   "cell_type": "markdown",
   "metadata": {},
   "source": [
    "# 1. 모델 이해하기"
   ]
  },
  {
   "cell_type": "markdown",
   "metadata": {},
   "source": [
    "##### 1번 레이어 : 합성곱층(Convolution layer)\n",
    "합성곱(in_channel=1, out_channerl=32, kernel_size=3, stride=1, padding=1) + 활성화 함수 ReLU\n",
    "\n",
    "맥스풀링(kernel_size=2, stride=2)\n",
    "\n",
    "##### 2번 레이어 : 합성곱 층 (Convolutional layer)\n",
    "합성곱(in_channel=32, out_channel=64, kernel_size=3, stride=1, padding=1) + 활성화 함수 ReLU\n",
    "\n",
    "맥스 풀링(kernel_size=2, stride=2)\n",
    "\n",
    "##### 3번 레이어 : 합성곱 층 (Convolutional layer)\n",
    "합성곱(in_channel=64, out_channel=128, kernel_size=3, stride=1, padding=1) + 활성화 함수 ReLU\n",
    "\n",
    "맥스 풀링(kernel_size=2, stride=2, padding=1)\n",
    "\n",
    "##### 4번 레이어 : 전결합층(Fully-Connected layer)\n",
    "특성맵을 펼친다. # batch_size x 7 x 7 -> batch_size x 3136\n",
    "\n",
    "전결합층(뉴런 625개) + 활성화 함수 ReLU\n",
    "\n",
    "##### 5번 레이어 : 전결합층(Fully-Connected layer)\n",
    "전결합층(뉴런 10개) + 활성화 함수 Softmax"
   ]
  },
  {
   "cell_type": "markdown",
   "metadata": {},
   "source": [
    "# 2. 깊은 CNN으로 MNIST 분류하기"
   ]
  },
  {
   "cell_type": "code",
   "execution_count": 1,
   "metadata": {},
   "outputs": [],
   "source": [
    "import torch\n",
    "import torchvision.datasets as dsets\n",
    "import torchvision.transforms as transforms\n",
    "import torch.nn.init"
   ]
  },
  {
   "cell_type": "code",
   "execution_count": 2,
   "metadata": {},
   "outputs": [],
   "source": [
    "device='cuda' if torch.cuda.is_available() else 'cpu'\n",
    "\n",
    "torch.manual_seed(777)\n",
    "\n",
    "if device=='cuda':\n",
    "    torch.cuda.manual_seed_all(777)"
   ]
  },
  {
   "cell_type": "code",
   "execution_count": 3,
   "metadata": {},
   "outputs": [],
   "source": [
    "learning_rate=0.001\n",
    "training_epochs=15\n",
    "batch_size=100"
   ]
  },
  {
   "cell_type": "code",
   "execution_count": 4,
   "metadata": {},
   "outputs": [],
   "source": [
    "mnist_train=dsets.MNIST(root='MNIST_data/',\n",
    "                        train=True,\n",
    "                        transform=transforms.ToTensor(),\n",
    "                        download=True)\n",
    "\n",
    "mnist_test=dsets.MNIST(root='MNIST_data/',\n",
    "                        train=False,\n",
    "                        transform=transforms.ToTensor(),\n",
    "                        download=True)"
   ]
  },
  {
   "cell_type": "code",
   "execution_count": 6,
   "metadata": {},
   "outputs": [],
   "source": [
    "data_loader=torch.utils.data.DataLoader(dataset=mnist_train,\n",
    "                                        batch_size=batch_size,\n",
    "                                        shuffle=True,\n",
    "                                        drop_last=True)"
   ]
  },
  {
   "cell_type": "code",
   "execution_count": null,
   "metadata": {},
   "outputs": [],
   "source": [
    "class CNN(torch.nn.Module) :\n",
    "\n",
    "    def __init(self):\n",
    "        super(CNN, self).__init__()\n",
    "        self.keep_prob=0.5\n",
    "\n",
    "        self.layer1=torch.nnSequential(\n",
    "            torch.nn.Conv2d(1,32, kernel_size=3, stride=1, padding=1),\n",
    "            torch.nn.ReLU(),\n",
    "            torch.nn.MaxPool2d(kernel_size=2, stride=2)\n",
    "        )\n",
    "\n",
    "        self.layer2=torch.nn.Sequential(\n",
    "            torch.nn.Conv2d(32, 64, kernel_size=3, stride=1, padding=1),\n",
    "            torch.nn.ReLU(),\n",
    "            torch.nnMaxPool2d(kernel_size=2, stride=2)\n",
    "        )\n",
    "\n",
    "        # 깊이 쌓아도 이전 7-2보다 정확도가 낮음."
   ]
  }
 ],
 "metadata": {
  "interpreter": {
   "hash": "916dbcbb3f70747c44a77c7bcd40155683ae19c65e1c03b4aa3499c5328201f1"
  },
  "kernelspec": {
   "display_name": "Python 3.8.10 64-bit",
   "language": "python",
   "name": "python3"
  },
  "language_info": {
   "codemirror_mode": {
    "name": "ipython",
    "version": 3
   },
   "file_extension": ".py",
   "mimetype": "text/x-python",
   "name": "python",
   "nbconvert_exporter": "python",
   "pygments_lexer": "ipython3",
   "version": "3.8.10"
  },
  "orig_nbformat": 4
 },
 "nbformat": 4,
 "nbformat_minor": 2
}
