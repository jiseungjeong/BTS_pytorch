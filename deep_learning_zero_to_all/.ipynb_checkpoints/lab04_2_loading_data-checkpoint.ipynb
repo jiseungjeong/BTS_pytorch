{
 "cells": [
  {
   "cell_type": "markdown",
   "id": "a4af7cfb",
   "metadata": {},
   "source": [
    "# 1. 미니 배치와 데이터 로드"
   ]
  },
  {
   "cell_type": "code",
   "execution_count": 1,
   "id": "09eca673",
   "metadata": {},
   "outputs": [],
   "source": [
    "import torch\n",
    "import torch.nn as nn\n",
    "import torch.nn.functional as F"
   ]
  },
  {
   "cell_type": "code",
   "execution_count": 2,
   "id": "55425bc0",
   "metadata": {},
   "outputs": [],
   "source": [
    "from torch.utils.data import TensorDataset\n",
    "from torch.utils.data import DataLoader"
   ]
  },
  {
   "cell_type": "code",
   "execution_count": 24,
   "id": "6730073d",
   "metadata": {},
   "outputs": [],
   "source": [
    "x_train=torch.FloatTensor([[73,80,75],\n",
    "                          [93,88,93],\n",
    "                          [89,91,90],\n",
    "                          [96,98,100],\n",
    "                          [73,66,70]])\n",
    "y_train=torch.FloatTensor([[152],[185],[180],[196],[142]])"
   ]
  },
  {
   "cell_type": "code",
   "execution_count": 25,
   "id": "0e7d696d",
   "metadata": {},
   "outputs": [],
   "source": [
    "dataset=TensorDataset(x_train, y_train)\n",
    "\n",
    "dataloader=DataLoader(dataset, batch_size=2, shuffle=True)"
   ]
  },
  {
   "cell_type": "code",
   "execution_count": 26,
   "id": "a5a4a1e6",
   "metadata": {},
   "outputs": [],
   "source": [
    "model=nn.Linear(3,1)\n",
    "optimizer=torch.optim.SGD(model.parameters(), lr=1e-5)"
   ]
  },
  {
   "cell_type": "markdown",
   "id": "eeeee6d3",
   "metadata": {},
   "source": [
    "model=nn.Linear(3,1)\n",
    "optimizer=torch.optim.SGD(model.parameters(), lr=1e-5)"
   ]
  },
  {
   "cell_type": "code",
   "execution_count": 27,
   "id": "129f58a1",
   "metadata": {},
   "outputs": [
    {
     "name": "stdout",
     "output_type": "stream",
     "text": [
      "Epoch    0/20 Batch 1/3 Cost: 41431.648438\n",
      "Epoch    0/20 Batch 2/3 Cost: 12740.449219\n",
      "Epoch    0/20 Batch 3/3 Cost: 6682.963867\n",
      "Epoch    1/20 Batch 1/3 Cost: 1100.313110\n",
      "Epoch    1/20 Batch 2/3 Cost: 244.291107\n",
      "Epoch    1/20 Batch 3/3 Cost: 113.782120\n",
      "Epoch    2/20 Batch 1/3 Cost: 38.417686\n",
      "Epoch    2/20 Batch 2/3 Cost: 14.892922\n",
      "Epoch    2/20 Batch 3/3 Cost: 2.758298\n",
      "Epoch    3/20 Batch 1/3 Cost: 10.060040\n",
      "Epoch    3/20 Batch 2/3 Cost: 8.853541\n",
      "Epoch    3/20 Batch 3/3 Cost: 1.512852\n",
      "Epoch    4/20 Batch 1/3 Cost: 7.563378\n",
      "Epoch    4/20 Batch 2/3 Cost: 1.124136\n",
      "Epoch    4/20 Batch 3/3 Cost: 17.524679\n",
      "Epoch    5/20 Batch 1/3 Cost: 4.115855\n",
      "Epoch    5/20 Batch 2/3 Cost: 9.237463\n",
      "Epoch    5/20 Batch 3/3 Cost: 3.902397\n",
      "Epoch    6/20 Batch 1/3 Cost: 7.830225\n",
      "Epoch    6/20 Batch 2/3 Cost: 4.289704\n",
      "Epoch    6/20 Batch 3/3 Cost: 7.729072\n",
      "Epoch    7/20 Batch 1/3 Cost: 7.607586\n",
      "Epoch    7/20 Batch 2/3 Cost: 7.715462\n",
      "Epoch    7/20 Batch 3/3 Cost: 2.222300\n",
      "Epoch    8/20 Batch 1/3 Cost: 0.464846\n",
      "Epoch    8/20 Batch 2/3 Cost: 15.955939\n",
      "Epoch    8/20 Batch 3/3 Cost: 9.522728\n",
      "Epoch    9/20 Batch 1/3 Cost: 5.398811\n",
      "Epoch    9/20 Batch 2/3 Cost: 4.174361\n",
      "Epoch    9/20 Batch 3/3 Cost: 17.348059\n",
      "Epoch   10/20 Batch 1/3 Cost: 4.581490\n",
      "Epoch   10/20 Batch 2/3 Cost: 6.848923\n",
      "Epoch   10/20 Batch 3/3 Cost: 12.732753\n",
      "Epoch   11/20 Batch 1/3 Cost: 7.228094\n",
      "Epoch   11/20 Batch 2/3 Cost: 6.591090\n",
      "Epoch   11/20 Batch 3/3 Cost: 5.228008\n",
      "Epoch   12/20 Batch 1/3 Cost: 2.923063\n",
      "Epoch   12/20 Batch 2/3 Cost: 6.832185\n",
      "Epoch   12/20 Batch 3/3 Cost: 13.432064\n",
      "Epoch   13/20 Batch 1/3 Cost: 6.785249\n",
      "Epoch   13/20 Batch 2/3 Cost: 10.369171\n",
      "Epoch   13/20 Batch 3/3 Cost: 12.306568\n",
      "Epoch   14/20 Batch 1/3 Cost: 7.441269\n",
      "Epoch   14/20 Batch 2/3 Cost: 4.152602\n",
      "Epoch   14/20 Batch 3/3 Cost: 7.785254\n",
      "Epoch   15/20 Batch 1/3 Cost: 7.429089\n",
      "Epoch   15/20 Batch 2/3 Cost: 7.511337\n",
      "Epoch   15/20 Batch 3/3 Cost: 2.294668\n",
      "Epoch   16/20 Batch 1/3 Cost: 8.127099\n",
      "Epoch   16/20 Batch 2/3 Cost: 4.430639\n",
      "Epoch   16/20 Batch 3/3 Cost: 7.340994\n",
      "Epoch   17/20 Batch 1/3 Cost: 14.513847\n",
      "Epoch   17/20 Batch 2/3 Cost: 4.866823\n",
      "Epoch   17/20 Batch 3/3 Cost: 4.826233\n",
      "Epoch   18/20 Batch 1/3 Cost: 1.042456\n",
      "Epoch   18/20 Batch 2/3 Cost: 19.793917\n",
      "Epoch   18/20 Batch 3/3 Cost: 3.038621\n",
      "Epoch   19/20 Batch 1/3 Cost: 9.686578\n",
      "Epoch   19/20 Batch 2/3 Cost: 4.695837\n",
      "Epoch   19/20 Batch 3/3 Cost: 2.418145\n",
      "Epoch   20/20 Batch 1/3 Cost: 8.140755\n",
      "Epoch   20/20 Batch 2/3 Cost: 6.448811\n",
      "Epoch   20/20 Batch 3/3 Cost: 2.212257\n"
     ]
    }
   ],
   "source": [
    "nb_epochs=20\n",
    "for epoch in range(nb_epochs+1):\n",
    "    for batch_idx, samples in enumerate(dataloader):\n",
    "#         print(batch_idx)\n",
    "#         print(samples)\n",
    "        x_train, y_train=samples\n",
    "        \n",
    "        prediction=model(x_train)\n",
    "        \n",
    "        cost=F.mse_loss(prediction, y_train)\n",
    "        \n",
    "        optimizer.zero_grad()\n",
    "        cost.backward()\n",
    "        optimizer.step()\n",
    "        \n",
    "        print('Epoch {:4d}/{} Batch {}/{} Cost: {:.6f}'.format(epoch, nb_epochs, batch_idx+1,len(dataloader), cost.item()))"
   ]
  },
  {
   "cell_type": "code",
   "execution_count": 28,
   "id": "20e4394b",
   "metadata": {},
   "outputs": [
    {
     "name": "stdout",
     "output_type": "stream",
     "text": [
      "훈련 후 입력이 73, 80, 75일 때의 예측값 : tensor([[153.9341]], grad_fn=<AddmmBackward0>)\n"
     ]
    }
   ],
   "source": [
    "new_var=torch.FloatTensor([[73,80,75]])\n",
    "\n",
    "pred_y=model(new_var)\n",
    "print(\"훈련 후 입력이 73, 80, 75일 때의 예측값 :\", pred_y)"
   ]
  },
  {
   "cell_type": "markdown",
   "id": "4bc1918e",
   "metadata": {},
   "source": [
    "# 2. 커스텀 데이터셋"
   ]
  },
  {
   "cell_type": "code",
   "execution_count": 29,
   "id": "81a7e703",
   "metadata": {},
   "outputs": [],
   "source": [
    "import torch\n",
    "import torch.nn.functional as F"
   ]
  },
  {
   "cell_type": "code",
   "execution_count": 31,
   "id": "de3cc091",
   "metadata": {},
   "outputs": [],
   "source": [
    "from torch.utils.data import Dataset\n",
    "from torch.utils.data import DataLoader"
   ]
  },
  {
   "cell_type": "code",
   "execution_count": 32,
   "id": "93c2327a",
   "metadata": {},
   "outputs": [],
   "source": [
    "class CustomDataset(torch.utils.data.Dataset):\n",
    "    def __init__(self): # 전처리\n",
    "        self.x_data=[[73,80,75],\n",
    "                    [93,88,93],\n",
    "                    [89, 91, 90],\n",
    "                    [96,98,100],\n",
    "                    [73,66,70]]\n",
    "        self.y_data=[[152],[185],[180],[196],[142]]\n",
    "    def __len__(self): # 데이터셋의 길이. 즉, 샘플의 수를 적어주는 부분\n",
    "        return len(self.x_data)\n",
    "    \n",
    "    def __getitem__(self, idx): # 데이터셋에서 특정 1개의 샘플을 가져오는 함수\n",
    "        x=torch.FloatTensor(self.x_data[idx])\n",
    "        y=torch.FloatTensor(self.y_data[idx])\n",
    "        return x,y"
   ]
  },
  {
   "cell_type": "code",
   "execution_count": 33,
   "id": "1beba014",
   "metadata": {},
   "outputs": [],
   "source": [
    "dataset=CustomDataset()\n",
    "dataloader=DataLoader(dataset,batch_size=2, shuffle=True)"
   ]
  },
  {
   "cell_type": "code",
   "execution_count": 34,
   "id": "3d660900",
   "metadata": {},
   "outputs": [],
   "source": [
    "model=torch.nn.Linear(3,1)\n",
    "optimizer=torch.optim.SGD(model.parameters(),lr=1e-5)"
   ]
  },
  {
   "cell_type": "code",
   "execution_count": 35,
   "id": "c9d6e4d9",
   "metadata": {},
   "outputs": [
    {
     "name": "stdout",
     "output_type": "stream",
     "text": [
      "Epoch    0/20 Batch 1/3 Cost: 18697.156250\n",
      "Epoch    0/20 Batch 2/3 Cost: 7618.201172\n",
      "Epoch    0/20 Batch 3/3 Cost: 3235.562256\n",
      "Epoch    1/20 Batch 1/3 Cost: 493.680298\n",
      "Epoch    1/20 Batch 2/3 Cost: 163.357178\n",
      "Epoch    1/20 Batch 3/3 Cost: 52.176903\n",
      "Epoch    2/20 Batch 1/3 Cost: 26.722536\n",
      "Epoch    2/20 Batch 2/3 Cost: 0.677892\n",
      "Epoch    2/20 Batch 3/3 Cost: 0.601160\n",
      "Epoch    3/20 Batch 1/3 Cost: 3.964314\n",
      "Epoch    3/20 Batch 2/3 Cost: 1.481583\n",
      "Epoch    3/20 Batch 3/3 Cost: 0.044798\n",
      "Epoch    4/20 Batch 1/3 Cost: 2.595957\n",
      "Epoch    4/20 Batch 2/3 Cost: 0.710977\n",
      "Epoch    4/20 Batch 3/3 Cost: 2.290186\n",
      "Epoch    5/20 Batch 1/3 Cost: 1.533411\n",
      "Epoch    5/20 Batch 2/3 Cost: 2.896723\n",
      "Epoch    5/20 Batch 3/3 Cost: 0.091713\n",
      "Epoch    6/20 Batch 1/3 Cost: 2.353113\n",
      "Epoch    6/20 Batch 2/3 Cost: 0.934868\n",
      "Epoch    6/20 Batch 3/3 Cost: 2.147332\n",
      "Epoch    7/20 Batch 1/3 Cost: 3.241917\n",
      "Epoch    7/20 Batch 2/3 Cost: 1.171624\n",
      "Epoch    7/20 Batch 3/3 Cost: 0.097818\n",
      "Epoch    8/20 Batch 1/3 Cost: 1.465244\n",
      "Epoch    8/20 Batch 2/3 Cost: 0.238865\n",
      "Epoch    8/20 Batch 3/3 Cost: 5.169698\n",
      "Epoch    9/20 Batch 1/3 Cost: 1.150038\n",
      "Epoch    9/20 Batch 2/3 Cost: 1.473516\n",
      "Epoch    9/20 Batch 3/3 Cost: 4.135342\n",
      "Epoch   10/20 Batch 1/3 Cost: 1.120889\n",
      "Epoch   10/20 Batch 2/3 Cost: 4.814916\n",
      "Epoch   10/20 Batch 3/3 Cost: 0.121088\n",
      "Epoch   11/20 Batch 1/3 Cost: 0.805190\n",
      "Epoch   11/20 Batch 2/3 Cost: 4.577938\n",
      "Epoch   11/20 Batch 3/3 Cost: 0.369202\n",
      "Epoch   12/20 Batch 1/3 Cost: 0.951896\n",
      "Epoch   12/20 Batch 2/3 Cost: 2.718979\n",
      "Epoch   12/20 Batch 3/3 Cost: 1.424871\n",
      "Epoch   13/20 Batch 1/3 Cost: 1.427835\n",
      "Epoch   13/20 Batch 2/3 Cost: 3.443773\n",
      "Epoch   13/20 Batch 3/3 Cost: 0.819852\n",
      "Epoch   14/20 Batch 1/3 Cost: 0.533440\n",
      "Epoch   14/20 Batch 2/3 Cost: 4.850235\n",
      "Epoch   14/20 Batch 3/3 Cost: 0.317970\n",
      "Epoch   15/20 Batch 1/3 Cost: 0.952610\n",
      "Epoch   15/20 Batch 2/3 Cost: 2.790718\n",
      "Epoch   15/20 Batch 3/3 Cost: 0.188109\n",
      "Epoch   16/20 Batch 1/3 Cost: 2.868113\n",
      "Epoch   16/20 Batch 2/3 Cost: 2.830005\n",
      "Epoch   16/20 Batch 3/3 Cost: 0.021731\n",
      "Epoch   17/20 Batch 1/3 Cost: 3.528580\n",
      "Epoch   17/20 Batch 2/3 Cost: 1.874096\n",
      "Epoch   17/20 Batch 3/3 Cost: 0.397926\n",
      "Epoch   18/20 Batch 1/3 Cost: 1.583254\n",
      "Epoch   18/20 Batch 2/3 Cost: 2.551766\n",
      "Epoch   18/20 Batch 3/3 Cost: 0.134961\n",
      "Epoch   19/20 Batch 1/3 Cost: 1.441326\n",
      "Epoch   19/20 Batch 2/3 Cost: 2.387461\n",
      "Epoch   19/20 Batch 3/3 Cost: 0.197787\n",
      "Epoch   20/20 Batch 1/3 Cost: 2.801051\n",
      "Epoch   20/20 Batch 2/3 Cost: 0.366896\n",
      "Epoch   20/20 Batch 3/3 Cost: 1.965541\n"
     ]
    }
   ],
   "source": [
    "nb_epochs=20\n",
    "for epoch in range(nb_epochs+1):\n",
    "    for batch_idx, samples in enumerate(dataloader):\n",
    "        x_train, y_train = samples\n",
    "        \n",
    "        prediction = model(x_train)\n",
    "        \n",
    "        cost=F.mse_loss(prediction, y_train)\n",
    "        \n",
    "        optimizer.zero_grad()\n",
    "        cost.backward()\n",
    "        optimizer.step()\n",
    "        \n",
    "        print('Epoch {:4d}/{} Batch {}/{} Cost: {:.6f}'.format(epoch, nb_epochs, batch_idx+1, len(dataloader), cost.item()))"
   ]
  },
  {
   "cell_type": "code",
   "execution_count": 36,
   "id": "d49de0ce",
   "metadata": {},
   "outputs": [
    {
     "name": "stdout",
     "output_type": "stream",
     "text": [
      "훈련 후 입력이 73, 80, 75일 떄의 예측값 : tensor([[152.7100]], grad_fn=<AddmmBackward0>)\n"
     ]
    }
   ],
   "source": [
    "new_var=torch.FloatTensor([[73,80,75]])\n",
    "pred_y=model(new_var)\n",
    "print(\"훈련 후 입력이 73, 80, 75일 떄의 예측값 :\", pred_y)"
   ]
  },
  {
   "cell_type": "code",
   "execution_count": null,
   "id": "1c6c8222",
   "metadata": {},
   "outputs": [],
   "source": []
  }
 ],
 "metadata": {
  "kernelspec": {
   "display_name": "Python 3 (ipykernel)",
   "language": "python",
   "name": "python3"
  },
  "language_info": {
   "codemirror_mode": {
    "name": "ipython",
    "version": 3
   },
   "file_extension": ".py",
   "mimetype": "text/x-python",
   "name": "python",
   "nbconvert_exporter": "python",
   "pygments_lexer": "ipython3",
   "version": "3.8.10"
  }
 },
 "nbformat": 4,
 "nbformat_minor": 5
}
