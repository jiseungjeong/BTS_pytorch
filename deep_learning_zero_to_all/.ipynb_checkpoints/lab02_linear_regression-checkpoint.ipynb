{
 "cells": [
  {
   "cell_type": "code",
   "execution_count": 12,
   "id": "c5694f5a",
   "metadata": {},
   "outputs": [],
   "source": [
    "import numpy as np\n",
    "import torch\n",
    "import torch.optim as optim"
   ]
  },
  {
   "cell_type": "code",
   "execution_count": 13,
   "id": "a5df616a",
   "metadata": {},
   "outputs": [],
   "source": [
    "x_train=torch.FloatTensor([[1],[2],[3]])\n",
    "y_train=torch.FloatTensor([[2],[4],[6]])"
   ]
  },
  {
   "cell_type": "code",
   "execution_count": 14,
   "id": "75e6ca0e",
   "metadata": {},
   "outputs": [],
   "source": [
    "W=torch.zeros(1, requires_grad=True)\n",
    "b=torch.zeros(1, requires_grad=True)\n",
    "\n",
    "optimizer=optim.SGD([W,b],lr=0.01)\n",
    "\n",
    "nb_epochs=1000"
   ]
  },
  {
   "cell_type": "code",
   "execution_count": 21,
   "id": "60e34856",
   "metadata": {},
   "outputs": [],
   "source": [
    "for epochs in range(1, nb_epochs+1):\n",
    "    hypothesis=x_train*W+b\n",
    "    cost=torch.mean((hypothesis-y_train)**2)\n",
    "    \n",
    "    optimizer.zero_grad()\n",
    "    cost.backward()\n",
    "    optimizer.step()"
   ]
  },
  {
   "cell_type": "code",
   "execution_count": 22,
   "id": "53d727af",
   "metadata": {},
   "outputs": [
    {
     "name": "stdout",
     "output_type": "stream",
     "text": [
      "tensor([2.0000], requires_grad=True) tensor([4.8882e-05], requires_grad=True)\n"
     ]
    }
   ],
   "source": [
    "print(W, b)"
   ]
  },
  {
   "cell_type": "code",
   "execution_count": null,
   "id": "9818367d",
   "metadata": {},
   "outputs": [],
   "source": []
  }
 ],
 "metadata": {
  "kernelspec": {
   "display_name": "Python 3 (ipykernel)",
   "language": "python",
   "name": "python3"
  },
  "language_info": {
   "codemirror_mode": {
    "name": "ipython",
    "version": 3
   },
   "file_extension": ".py",
   "mimetype": "text/x-python",
   "name": "python",
   "nbconvert_exporter": "python",
   "pygments_lexer": "ipython3",
   "version": "3.8.10"
  }
 },
 "nbformat": 4,
 "nbformat_minor": 5
}
