{
 "cells": [
  {
   "cell_type": "code",
   "execution_count": 1,
   "id": "58f39686",
   "metadata": {},
   "outputs": [],
   "source": [
    "import torch\n",
    "import torch.optim as optim"
   ]
  },
  {
   "cell_type": "code",
   "execution_count": 2,
   "id": "9f548a19",
   "metadata": {},
   "outputs": [],
   "source": [
    "x_train=torch.FloatTensor([[1],[2],[3]])\n",
    "y_train=torch.FloatTensor([[1],[2],[3]])\n",
    "\n",
    "W=torch.zeros(1,requires_grad=True)\n",
    "\n",
    "optimizer=optim.SGD([W],lr=0.15)\n",
    "\n",
    "nb_epochs=10"
   ]
  },
  {
   "cell_type": "code",
   "execution_count": 4,
   "id": "d9537f14",
   "metadata": {},
   "outputs": [
    {
     "name": "stdout",
     "output_type": "stream",
     "text": [
      "Epoch    0/10 W; 0.000 cost: 4.666667\n",
      "Epoch    1/10 W; 1.400 cost: 0.746667\n",
      "Epoch    2/10 W; 0.840 cost: 0.119467\n",
      "Epoch    3/10 W; 1.064 cost: 0.019115\n",
      "Epoch    4/10 W; 0.974 cost: 0.003058\n",
      "Epoch    5/10 W; 1.010 cost: 0.000489\n",
      "Epoch    6/10 W; 0.996 cost: 0.000078\n",
      "Epoch    7/10 W; 1.002 cost: 0.000013\n",
      "Epoch    8/10 W; 0.999 cost: 0.000002\n",
      "Epoch    9/10 W; 1.000 cost: 0.000000\n",
      "Epoch   10/10 W; 1.000 cost: 0.000000\n"
     ]
    }
   ],
   "source": [
    "for epoch in range(nb_epochs+1):\n",
    "    hypothesis=x_train*W\n",
    "    \n",
    "    cost=torch.mean((hypothesis-y_train)**2)\n",
    "    \n",
    "    print('Epoch {:4d}/{} W; {:.3f} cost: {:.6f}'.format(epoch, nb_epochs, W.item(), cost.item()))\n",
    "    \n",
    "    optimizer.zero_grad()\n",
    "    cost.backward()\n",
    "    optimizer.step()"
   ]
  },
  {
   "cell_type": "code",
   "execution_count": null,
   "id": "aa287b35",
   "metadata": {},
   "outputs": [],
   "source": []
  }
 ],
 "metadata": {
  "kernelspec": {
   "display_name": "Python 3 (ipykernel)",
   "language": "python",
   "name": "python3"
  },
  "language_info": {
   "codemirror_mode": {
    "name": "ipython",
    "version": 3
   },
   "file_extension": ".py",
   "mimetype": "text/x-python",
   "name": "python",
   "nbconvert_exporter": "python",
   "pygments_lexer": "ipython3",
   "version": "3.8.10"
  }
 },
 "nbformat": 4,
 "nbformat_minor": 5
}
